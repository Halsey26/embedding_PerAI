{
 "cells": [
  {
   "cell_type": "code",
   "execution_count": 4,
   "id": "6739a439",
   "metadata": {},
   "outputs": [],
   "source": [
    "import json\n",
    "\n",
    "with open('embeddings_output.json') as f:\n",
    "    embed= json.load(f)"
   ]
  },
  {
   "cell_type": "code",
   "execution_count": 8,
   "id": "dc83f194",
   "metadata": {},
   "outputs": [
    {
     "data": {
      "text/plain": [
       "{'text': 'Política de reembolso: Política de reembolso Política de Reembolsos, Cambios y Devoluciones New Line Chile SpA | Kreadores.cl Última actualización: 11-06-2025 En kreadores.cl nos tomamos en serio la protección de tus derechos como consumidor. Por eso, esta política ha sido elaborada conforme a lo establecido en la Ley N° 19.496 sobre Protección de los Derechos de los Consumidores de Chile y en cumplimiento con los requisitos de Google Merchant Center. Esta política aplica a todas las compras realizadas a través de nuestro sitio web: https://www.kreadores.cl 1. Derecho a Retracto Según lo dispuesto en el artículo 3 bis de la Ley del Consumidor chilena, si compraste un producto por internet y fue entregado a domicilio, tienes derecho a retractarte de la compra dentro de un plazo de 30 días corridos desde la compra, siempre que: El producto no haya sido usado, abierto ni dañado. Esté en su empaque original, sellado y en perfectas condiciones. Se acompañe con la boleta o comprobante de compra. No haya sido adquirido en liquidación o con descuentos especiales. En este caso, los costos de cambio son gratuitos. 2. Garantía Legal por Producto Defectuoso Si el producto presenta fallas de fábrica o funcionamiento dentro de los 6 meses posteriores a la entrega, puedes optar —según tu preferencia— por: Reparación gratuita. Reposición del producto. Devolución del dinero. No se aplicará la garantía legal si el producto fue: Intervenido o reparado por terceros no autorizados. Dañado por mal uso, golpes, humedad o instalación incorrecta. Usado de forma distinta a lo indicado en su ficha técnica o manual. Para iniciar un proceso de garantía, escríbenos a ayuda@kreadores.cl adjuntando: Número de pedido. Descripción del defecto. Fotografías del producto. Te responderemos en un máximo de 5 días hábiles. 3. Cambios Voluntarios Además del derecho a retracto y la garantía legal, aceptamos cambios voluntarios dentro de un plazo de 10 días desde la entrega, siempre que: El producto no haya sido usado ni dañado. Se encuentre en perfectas condiciones, con todos sus accesorios y empaques. No haya sido adquirido en liquidación o con descuentos especiales. En este caso, los costos de envío corren por cuenta del cliente. 4. Productos Excluidos de Reembolso o Cambio Por razones legales y sanitarias, no se aceptan cambios ni devoluciones de: Tarjetas de regalo (gift cards). Productos de higiene personal, salud o estética que hayan sido abiertos. Productos personalizados o a pedido. Descargas digitales o contenido digital una',\n",
       " 'embedding': [-0.05323931947350502,\n",
       "  -0.02427639067173004,\n",
       "  -0.043282050639390945,\n",
       "  -0.11413704603910446,\n",
       "  -0.004193209111690521,\n",
       "  0.0192849263548851,\n",
       "  0.004983468446880579,\n",
       "  0.016729163005948067,\n",
       "  -0.04185560718178749,\n",
       "  0.011640534736216068,\n",
       "  0.10267190635204315,\n",
       "  -0.0021155555732548237,\n",
       "  -0.009711972437798977,\n",
       "  0.01599707081913948,\n",
       "  0.11053221672773361,\n",
       "  -0.020035449415445328,\n",
       "  -0.04214223846793175,\n",
       "  -0.01659427210688591,\n",
       "  0.03606550768017769,\n",
       "  0.034878719598054886,\n",
       "  0.11165064573287964,\n",
       "  -0.06665141135454178,\n",
       "  -0.04714162275195122,\n",
       "  0.05401773378252983,\n",
       "  -0.13482306897640228,\n",
       "  0.001181868719868362,\n",
       "  0.010233008302748203,\n",
       "  -0.044851209968328476,\n",
       "  -0.07868784666061401,\n",
       "  -0.06042129546403885,\n",
       "  -0.08671873062849045,\n",
       "  0.021168556064367294,\n",
       "  0.07158590853214264,\n",
       "  0.01760762371122837,\n",
       "  0.010556470602750778,\n",
       "  0.0006436522817239165,\n",
       "  0.01748080551624298,\n",
       "  -0.08182329684495926,\n",
       "  -0.026043865829706192,\n",
       "  0.04665298014879227,\n",
       "  -0.047701068222522736,\n",
       "  -0.09321393817663193,\n",
       "  -0.06306430697441101,\n",
       "  -0.027009235695004463,\n",
       "  -0.027049249038100243,\n",
       "  -0.012754350900650024,\n",
       "  0.06954686343669891,\n",
       "  0.07932614535093307,\n",
       "  0.007663963828235865,\n",
       "  -0.05066321790218353,\n",
       "  -0.022293172776699066,\n",
       "  -0.015713628381490707,\n",
       "  -0.020767757669091225,\n",
       "  0.013112718239426613,\n",
       "  0.005920495372265577,\n",
       "  -0.10749288648366928,\n",
       "  0.00017673826368991286,\n",
       "  0.014718180522322655,\n",
       "  0.10339157283306122,\n",
       "  0.07449731230735779,\n",
       "  0.04146243631839752,\n",
       "  0.006990449503064156,\n",
       "  -0.0077988398261368275,\n",
       "  0.03898025304079056,\n",
       "  0.013462895527482033,\n",
       "  0.004826136864721775,\n",
       "  0.015155673958361149,\n",
       "  -0.020491592586040497,\n",
       "  -0.0522315576672554,\n",
       "  0.044966425746679306,\n",
       "  0.07486866414546967,\n",
       "  -0.04036020487546921,\n",
       "  -0.05101782828569412,\n",
       "  0.009267847053706646,\n",
       "  -0.0262625589966774,\n",
       "  -0.0032640458084642887,\n",
       "  0.01849951408803463,\n",
       "  0.07817404717206955,\n",
       "  -0.028292831033468246,\n",
       "  -0.08877698332071304,\n",
       "  -0.0037721984554082155,\n",
       "  -0.00577014684677124,\n",
       "  0.02157885767519474,\n",
       "  -0.009544998407363892,\n",
       "  -0.01423069927841425,\n",
       "  -0.003508702851831913,\n",
       "  -0.04882694408297539,\n",
       "  0.0004313990648370236,\n",
       "  0.11675189435482025,\n",
       "  -0.051825426518917084,\n",
       "  -0.010248388163745403,\n",
       "  0.04305858165025711,\n",
       "  0.03734728693962097,\n",
       "  0.01672936975955963,\n",
       "  0.010836069472134113,\n",
       "  -0.010157465003430843,\n",
       "  -0.0005021632532589138,\n",
       "  -0.045338649302721024,\n",
       "  0.010110210627317429,\n",
       "  0.01333504356443882,\n",
       "  0.08778546005487442,\n",
       "  0.028976324945688248,\n",
       "  -0.07069575041532516,\n",
       "  -0.04311731830239296,\n",
       "  -0.022678596898913383,\n",
       "  0.025220761075615883,\n",
       "  -0.04944070801138878,\n",
       "  0.07230173796415329,\n",
       "  0.010988892056047916,\n",
       "  0.1310325562953949,\n",
       "  -0.09740141034126282,\n",
       "  -0.038503266870975494,\n",
       "  -0.01727267913520336,\n",
       "  -0.03346811980009079,\n",
       "  -0.06709644198417664,\n",
       "  -0.03726666420698166,\n",
       "  0.0085495226085186,\n",
       "  -0.032848749309778214,\n",
       "  0.060528047382831573,\n",
       "  -0.009288281202316284,\n",
       "  0.024148639291524887,\n",
       "  -0.0678657814860344,\n",
       "  -0.012862086296081543,\n",
       "  -0.08639214187860489,\n",
       "  0.09257957339286804,\n",
       "  -0.0425979420542717,\n",
       "  0.0693981796503067,\n",
       "  6.429663164146084e-33,\n",
       "  0.016667427495121956,\n",
       "  0.05700954794883728,\n",
       "  -0.06709497421979904,\n",
       "  0.005824102088809013,\n",
       "  -0.009353937581181526,\n",
       "  0.08583477884531021,\n",
       "  -0.03146304562687874,\n",
       "  0.06747986376285553,\n",
       "  -0.025594061240553856,\n",
       "  -0.021459737792611122,\n",
       "  -0.06310998648405075,\n",
       "  0.047628533095121384,\n",
       "  -0.043026942759752274,\n",
       "  0.08928186446428299,\n",
       "  0.15812765061855316,\n",
       "  0.015269323252141476,\n",
       "  -0.003662421368062496,\n",
       "  -0.031592659652233124,\n",
       "  0.10348224639892578,\n",
       "  0.02105553261935711,\n",
       "  -0.0400981642305851,\n",
       "  -0.005154863931238651,\n",
       "  0.0696873813867569,\n",
       "  -0.01653028093278408,\n",
       "  -0.0004596887738443911,\n",
       "  0.09731850773096085,\n",
       "  -0.05622425302863121,\n",
       "  0.024711092934012413,\n",
       "  -0.02778928354382515,\n",
       "  0.03382826969027519,\n",
       "  0.05656609684228897,\n",
       "  -0.05893348902463913,\n",
       "  0.028863197192549706,\n",
       "  0.07516717165708542,\n",
       "  -0.0006060299347154796,\n",
       "  0.009037740528583527,\n",
       "  -0.006741817574948072,\n",
       "  -0.01088764052838087,\n",
       "  -0.0799398198723793,\n",
       "  0.03435048088431358,\n",
       "  -0.04605191573500633,\n",
       "  0.023572852835059166,\n",
       "  -0.08147028833627701,\n",
       "  0.05005412548780441,\n",
       "  0.05143624171614647,\n",
       "  -0.01583515666425228,\n",
       "  -0.009657627902925014,\n",
       "  -0.03236866369843483,\n",
       "  0.07342422008514404,\n",
       "  -0.022279560565948486,\n",
       "  -0.0669940859079361,\n",
       "  0.06503082811832428,\n",
       "  0.024715904146432877,\n",
       "  -0.04904598742723465,\n",
       "  0.0017393330344930291,\n",
       "  -0.018833056092262268,\n",
       "  -0.12436990439891815,\n",
       "  0.010843305848538876,\n",
       "  -0.06702296435832977,\n",
       "  -0.11721808463335037,\n",
       "  0.027585646137595177,\n",
       "  0.06104147061705589,\n",
       "  0.08706800639629364,\n",
       "  0.022422945126891136,\n",
       "  -0.03445228561758995,\n",
       "  -0.01900220662355423,\n",
       "  -0.008654596284031868,\n",
       "  0.03700714930891991,\n",
       "  0.07814937084913254,\n",
       "  -0.031388167291879654,\n",
       "  -0.03357413411140442,\n",
       "  -0.0112179359421134,\n",
       "  0.012422898784279823,\n",
       "  0.081458181142807,\n",
       "  -0.07530339062213898,\n",
       "  0.015020618215203285,\n",
       "  -0.008908077143132687,\n",
       "  0.032132573425769806,\n",
       "  -0.008154957555234432,\n",
       "  0.05858931317925453,\n",
       "  -0.028429992496967316,\n",
       "  -0.023491190746426582,\n",
       "  0.11527533829212189,\n",
       "  0.006232420448213816,\n",
       "  0.014350864104926586,\n",
       "  0.009647656232118607,\n",
       "  0.10657408833503723,\n",
       "  -0.01007069181650877,\n",
       "  -0.00888514332473278,\n",
       "  0.04558268189430237,\n",
       "  -0.09829773008823395,\n",
       "  0.049031615257263184,\n",
       "  -0.054245732724666595,\n",
       "  0.06485583633184433,\n",
       "  0.02863345667719841,\n",
       "  -1.0490467908463187e-32,\n",
       "  -0.12666073441505432,\n",
       "  -0.043842773884534836,\n",
       "  -0.02779407799243927,\n",
       "  0.03769060596823692,\n",
       "  -0.10025099664926529,\n",
       "  0.0026822765357792377,\n",
       "  -0.01899029314517975,\n",
       "  0.005652249325066805,\n",
       "  -0.020206961780786514,\n",
       "  -0.04196787253022194,\n",
       "  -0.07287052273750305,\n",
       "  -0.03699418902397156,\n",
       "  0.04991631582379341,\n",
       "  -0.03060932829976082,\n",
       "  -0.03217383101582527,\n",
       "  0.03919173404574394,\n",
       "  -0.0315137542784214,\n",
       "  -0.08064522594213486,\n",
       "  -0.09353596717119217,\n",
       "  -0.028933173045516014,\n",
       "  0.03339841589331627,\n",
       "  0.0037744382862001657,\n",
       "  -0.039474982768297195,\n",
       "  0.032420311123132706,\n",
       "  -0.001469008275307715,\n",
       "  -0.02071257308125496,\n",
       "  -0.001245323452167213,\n",
       "  -0.0813593864440918,\n",
       "  -0.055369772017002106,\n",
       "  -0.04934956878423691,\n",
       "  0.054341670125722885,\n",
       "  -0.0027120301965624094,\n",
       "  -0.004075778182595968,\n",
       "  0.07556396722793579,\n",
       "  -0.03836091235280037,\n",
       "  0.033656682819128036,\n",
       "  0.0304633229970932,\n",
       "  0.04133440926671028,\n",
       "  0.09348223358392715,\n",
       "  0.05947551131248474,\n",
       "  0.06356676667928696,\n",
       "  0.08558383584022522,\n",
       "  0.028200265020132065,\n",
       "  -0.07515542209148407,\n",
       "  -0.10148624330759048,\n",
       "  -0.04495197907090187,\n",
       "  -0.015705937519669533,\n",
       "  -0.10344099998474121,\n",
       "  0.01349529717117548,\n",
       "  -0.010671619325876236,\n",
       "  0.06683357059955597,\n",
       "  0.00948011688888073,\n",
       "  -0.04366293549537659,\n",
       "  -0.06993196904659271,\n",
       "  -0.030459892004728317,\n",
       "  -0.02830524556338787,\n",
       "  -0.07288119196891785,\n",
       "  0.03250623494386673,\n",
       "  -0.08246874064207077,\n",
       "  -0.0002327959518879652,\n",
       "  0.014835517853498459,\n",
       "  0.039767246693372726,\n",
       "  -0.11425239592790604,\n",
       "  0.017035584896802902,\n",
       "  0.0747513398528099,\n",
       "  0.0018573931884020567,\n",
       "  0.01805187575519085,\n",
       "  -0.020511455833911896,\n",
       "  0.042788710445165634,\n",
       "  -0.019704224541783333,\n",
       "  0.055654074996709824,\n",
       "  0.009957398287951946,\n",
       "  -0.10032141208648682,\n",
       "  0.0014155165990814567,\n",
       "  -0.038781579583883286,\n",
       "  -0.05471588671207428,\n",
       "  0.0215462576597929,\n",
       "  0.08087152987718582,\n",
       "  -0.047213781625032425,\n",
       "  0.03228895738720894,\n",
       "  0.004894394893199205,\n",
       "  0.0029844881501048803,\n",
       "  0.009592163376510143,\n",
       "  -0.07255272567272186,\n",
       "  0.019939597696065903,\n",
       "  -0.007725805509835482,\n",
       "  -0.03872130438685417,\n",
       "  0.006623022258281708,\n",
       "  0.017544489353895187,\n",
       "  -0.027131453156471252,\n",
       "  -0.04871430620551109,\n",
       "  0.027325157076120377,\n",
       "  -0.12693583965301514,\n",
       "  0.0247719194740057,\n",
       "  -0.030738594010472298,\n",
       "  -5.4112014424845256e-08,\n",
       "  0.07420285791158676,\n",
       "  -0.02401096187531948,\n",
       "  -0.003438488347455859,\n",
       "  0.0732824057340622,\n",
       "  0.021105587482452393,\n",
       "  -0.018916364759206772,\n",
       "  0.00042692237184382975,\n",
       "  -0.029038844630122185,\n",
       "  -0.01209043338894844,\n",
       "  0.026543084532022476,\n",
       "  0.017852066084742546,\n",
       "  0.010190930217504501,\n",
       "  -0.10887531191110611,\n",
       "  0.012133875861763954,\n",
       "  -0.00019243118003942072,\n",
       "  -0.0060926759615540504,\n",
       "  0.011976206675171852,\n",
       "  0.03461211174726486,\n",
       "  -0.03215809911489487,\n",
       "  -0.020331718027591705,\n",
       "  0.08007922768592834,\n",
       "  -0.03540971875190735,\n",
       "  -0.028190569952130318,\n",
       "  -0.022669602185487747,\n",
       "  0.0373084619641304,\n",
       "  -0.061677005141973495,\n",
       "  -0.060582805424928665,\n",
       "  -0.03355567157268524,\n",
       "  -0.02804609388113022,\n",
       "  0.030828794464468956,\n",
       "  -0.06782731413841248,\n",
       "  -0.06022832915186882,\n",
       "  -0.02261986956000328,\n",
       "  -0.09224847704172134,\n",
       "  0.028936663642525673,\n",
       "  0.005520413164049387,\n",
       "  -0.010106504894793034,\n",
       "  -0.026434382423758507,\n",
       "  -0.03727805241942406,\n",
       "  0.016504695639014244,\n",
       "  0.049916528165340424,\n",
       "  0.028167353942990303,\n",
       "  -0.039205461740493774,\n",
       "  -0.0034877171274274588,\n",
       "  0.032059598714113235,\n",
       "  -0.10449081659317017,\n",
       "  -0.09344356507062912,\n",
       "  0.07227984815835953,\n",
       "  0.015804855152964592,\n",
       "  0.03271668031811714,\n",
       "  -0.07984936982393265,\n",
       "  -0.025402620434761047,\n",
       "  0.06963136047124863,\n",
       "  -0.006144437473267317,\n",
       "  0.03596864640712738,\n",
       "  -0.07240519672632217,\n",
       "  0.07153075933456421,\n",
       "  -0.006327994167804718,\n",
       "  -0.03666400909423828,\n",
       "  0.06861526519060135,\n",
       "  0.017475675791502,\n",
       "  -0.014337550848722458,\n",
       "  0.00023366296954918653,\n",
       "  -0.014785334467887878]}"
      ]
     },
     "execution_count": 8,
     "metadata": {},
     "output_type": "execute_result"
    }
   ],
   "source": [
    "embed[0]"
   ]
  },
  {
   "cell_type": "code",
   "execution_count": 5,
   "id": "0c42585e",
   "metadata": {},
   "outputs": [
    {
     "data": {
      "text/plain": [
       "384"
      ]
     },
     "execution_count": 5,
     "metadata": {},
     "output_type": "execute_result"
    }
   ],
   "source": [
    "len(embed[2]['embedding'])"
   ]
  },
  {
   "cell_type": "markdown",
   "id": "47458165",
   "metadata": {},
   "source": [
    "# Generación de embeddings para sistema RAG\n",
    "- **Objetivo**: Entregar embeddings generados a AI Devs para que lo implemente en sistema RAG del agente eCommerce\n",
    "- **Proceso**: realizar desde el proceso de Chunking, evaluar los documentos generados para elegir el modelo, generar el embedding, evaluar resultados con implementación de Rag con OpenAI."
   ]
  },
  {
   "cell_type": "markdown",
   "id": "1ec4a561",
   "metadata": {},
   "source": [
    "## Chunking\n",
    "**Requisitos**\n",
    "- *Tamaño óptimo:* 200-500 tokens por chunk\n",
    "- *Overlap:* 50-100 tokens entre chunks consecutivos\n",
    "- *Estrategias:*\n",
    "  - Por párrafos (para políticas)\n",
    "  - Por producto individual (para catálogos) (ya lo maneja equipo de AI devs)\n",
    "  - Por pregunta-respuesta (para FAQs)\n",
    "\n",
    "- Metadatos propuestos:\n",
    "  - politica de reembolso, politica de envio\n",
    "  -  Secciones: "
   ]
  },
  {
   "cell_type": "code",
   "execution_count": null,
   "id": "06bf002d",
   "metadata": {},
   "outputs": [],
   "source": [
    "from docx import Document\n",
    "import json\n",
    "\n",
    "doc= Document('docs/Recursos.docx')\n",
    "\n"
   ]
  },
  {
   "cell_type": "code",
   "execution_count": 23,
   "id": "99fa55c2",
   "metadata": {},
   "outputs": [
    {
     "data": {
      "text/plain": [
       "'En kreadores.cl nos tomamos en serio la protección de tus derechos como consumidor. Por eso, esta política ha sido elaborada conforme a lo establecido en la Ley N° 19.496 sobre Protección de los Derechos de los Consumidores de Chile y en cumplimiento con los requisitos de Google Merchant Center.'"
      ]
     },
     "execution_count": 23,
     "metadata": {},
     "output_type": "execute_result"
    }
   ],
   "source": [
    "# Cada párrafo\n",
    "doc.paragraphs[3].text"
   ]
  },
  {
   "cell_type": "code",
   "execution_count": null,
   "id": "d80afd20",
   "metadata": {},
   "outputs": [],
   "source": [
    "# Extracción del texto\n",
    "parrafos= []\n",
    "for texto in doc.paragraphs:\n",
    "    if texto.text: # si hay texto en la línea\n",
    "        parrafos.append(texto.text.strip())\n",
    "\n",
    "# Lo unimos en un solo string\n",
    "texto_completo = \"\\n\".join(parrafos)\n"
   ]
  },
  {
   "cell_type": "markdown",
   "id": "71ee921b",
   "metadata": {},
   "source": [
    "Chunking - División en fragmentos"
   ]
  },
  {
   "cell_type": "code",
   "execution_count": 65,
   "id": "13b3a4d6",
   "metadata": {},
   "outputs": [],
   "source": [
    "import re\n",
    "\n",
    "# division por titulos numerados y separadores\n",
    "chunks= re.split(r\"(?:\\n_{5,}\\n|\\n{2,}|(?=\\n\\d\\.))\",texto_completo)\n",
    "chunks = [chunk.strip() for chunk in chunks if chunk.strip()]\n",
    "\n"
   ]
  },
  {
   "cell_type": "code",
   "execution_count": null,
   "id": "155ae88f",
   "metadata": {},
   "outputs": [
    {
     "data": {
      "text/plain": [
       "15"
      ]
     },
     "execution_count": 44,
     "metadata": {},
     "output_type": "execute_result"
    }
   ],
   "source": [
    "len(chunks)"
   ]
  },
  {
   "cell_type": "code",
   "execution_count": 101,
   "id": "e8c08a45",
   "metadata": {},
   "outputs": [
    {
     "name": "stdout",
     "output_type": "stream",
     "text": [
      "Máxima longitud de chunk generado: 697\n"
     ]
    }
   ],
   "source": [
    "tamanio= []\n",
    "for i in chunks:\n",
    "    tamanio.append(len(i))\n",
    "print(f'Máxima longitud de chunk generado: {max(tamanio)}')"
   ]
  },
  {
   "cell_type": "code",
   "execution_count": 66,
   "id": "a85f3933",
   "metadata": {},
   "outputs": [
    {
     "data": {
      "text/plain": [
       "['Política de reembolso:\\nPolítica de reembolso\\nPolítica de Reembolsos, Cambios y Devoluciones\\nNew Line Chile SpA | Kreadores.cl\\nÚltima actualización: 11-06-2025\\nEn kreadores.cl nos tomamos en serio la protección de tus derechos como consumidor. Por eso, esta política ha sido elaborada conforme a lo establecido en la Ley N° 19.496 sobre Protección de los Derechos de los Consumidores de Chile y en cumplimiento con los requisitos de Google Merchant Center.\\nEsta política aplica a todas las compras realizadas a través de nuestro sitio web: https://www.kreadores.cl',\n",
       " '1. Derecho a Retracto\\nSegún lo dispuesto en el artículo 3 bis de la Ley del Consumidor chilena, si compraste un producto por internet y fue entregado a domicilio, tienes derecho a retractarte de la compra dentro de un plazo de 30 días corridos desde la compra, siempre que:\\nEl producto no haya sido usado, abierto ni dañado.\\nEsté en su empaque original, sellado y en perfectas condiciones.\\nSe acompañe con la boleta o comprobante de compra.\\nNo haya sido adquirido en liquidación o con descuentos especiales.\\nEn este caso, los costos de cambio son gratuitos.',\n",
       " '2. Garantía Legal por Producto Defectuoso\\nSi el producto presenta fallas de fábrica o funcionamiento dentro de los 6 meses posteriores a la entrega, puedes optar —según tu preferencia— por:\\nReparación gratuita.\\nReposición del producto.\\nDevolución del dinero.\\nNo se aplicará la garantía legal si el producto fue:\\nIntervenido o reparado por terceros no autorizados.\\nDañado por mal uso, golpes, humedad o instalación incorrecta.\\nUsado de forma distinta a lo indicado en su ficha técnica o manual.\\nPara iniciar un proceso de garantía, escríbenos a ayuda@kreadores.cl adjuntando:\\nNúmero de pedido.\\nDescripción del defecto.\\nFotografías del producto.\\nTe responderemos en un máximo de 5 días hábiles.',\n",
       " '3. Cambios Voluntarios\\nAdemás del derecho a retracto y la garantía legal, aceptamos cambios voluntarios dentro de un plazo de 10 días desde la entrega, siempre que:\\nEl producto no haya sido usado ni dañado.\\nSe encuentre en perfectas condiciones, con todos sus accesorios y empaques.\\nNo haya sido adquirido en liquidación o con descuentos especiales.\\nEn este caso, los costos de envío corren por cuenta del cliente.',\n",
       " '4. Productos Excluidos de Reembolso o Cambio\\nPor razones legales y sanitarias, no se aceptan cambios ni devoluciones de:\\nTarjetas de regalo (gift cards).\\nProductos de higiene personal, salud o estética que hayan sido abiertos.\\nProductos personalizados o a pedido.\\nDescargas digitales o contenido digital una vez iniciado el acceso.',\n",
       " '5. Procedimiento de Devolución\\nSolicita tu devolución escribiendo a ayuda@kreadores.cl, indicando número de pedido, motivo y pruebas (fotos si aplica).\\nEvaluaremos tu solicitud en un máximo de 5 días hábiles.\\nSi es aprobada, te indicaremos la dirección para devolver el producto.\\nUna vez recibido e inspeccionado, te notificaremos por correo la aprobación o rechazo del reembolso.',\n",
       " '6. Reembolsos\\nSi la devolución es aprobada, el reembolso se realizará por el mismo medio de pago utilizado en la compra. Si pagaste por transferencia, necesitaremos tus datos bancarios.\\nEl plazo de reembolso puede variar, pero no excederá de 10 días hábiles desde la aprobación.\\nImportante: los costos de envío originales no son reembolsables, salvo que el motivo de la devolución sea una falla del producto o error imputable a kreadores.cl.',\n",
       " '7. Costos de Envío en Devoluciones\\nEl cliente asume el costo del envío de devolución, salvo en casos de productos defectuosos o errores de despacho.\\nSi corresponde reembolso, el costo de envío original se descontará del monto reembolsado cuando sea responsabilidad del cliente.\\nNo se aceptan devoluciones enviadas directamente al fabricante.\\nLa dirección de retorno será informada por correo una vez aprobado el proceso.',\n",
       " '8. Dudas y Contacto\\nSi tienes preguntas sobre esta política o el estado de tu solicitud, puedes comunicarte con nosotros a través de:\\nCorreo electrónico: ayuda@kreadores.cl\\nWhatsApp: +56 9 9161 6642\\nDirección legal: Av. El Retiro 9800, Pudahuel, Región Metropolitana, Chile\\nEsta política está sujeta a modificaciones sin previo aviso, pero siempre respetando tus derechos establecidos por la ley. Te recomendamos revisarla periódicamente antes de realizar una compra.\\nPolítica de Envío\\nÚltima actualización: [actualizar fecha]\\nEn Kreadores.cl, nos comprometemos a despachar tus pedidos de forma rápida y segura, asegurando una experiencia eficiente desde la compra hasta la recepción del producto.',\n",
       " '1. Despachos a Nivel Nacional\\nRealizamos envíos a todo Chile a través de Bluexpress, nuestro operador logístico oficial.',\n",
       " '2. Plazos de despacho y entrega\\nTodos los pedidos son procesados y despachados dentro de un plazo máximo de 24 horas hábiles después de confirmada la compra.\\nLos tiempos de entrega varían entre el mismo día y hasta 5 días hábiles, dependiendo de la comuna y localidad del destinatario.\\nDurante eventos especiales como CyberDay, Black Friday u otras promociones masivas, los plazos de entrega podrían extenderse hasta 3 días hábiles adicionales.',\n",
       " '3. Horario de corte para procesamiento de pedidos\\nLos pedidos confirmados antes de las 12:00 horas (mediodía) serán procesados ese mismo día hábil.\\nLas compras realizadas después de las 12:00 horas se procesarán el siguiente día hábil.',\n",
       " '4. Seguimiento de envío\\nUna vez que tu pedido sea despachado, recibirás un correo electrónico con el número de seguimiento para que puedas monitorear el estado de entrega directamente en el sitio de Bluexpress.',\n",
       " '5. Responsabilidad del cliente\\nEs responsabilidad del cliente ingresar correctamente los datos de envío al momento de la compra. Kreadores.cl no se hace responsable por retrasos o entregas fallidas causadas por direcciones incorrectas o incompletas.',\n",
       " '6. Problemas con la entrega\\nSi experimentas algún problema con el despacho, puedes escribirnos a ayuda@kreadores.pro o contactarnos por WhatsApp al +56 9 9161 6642, y con gusto te ayudaremos a resolverlo.\\nDatos de contacto\\nDirección: Av. El Retiro 9800, Pudahuel, Región Metropolitana. (Es una bodega, no se puede ir a una tienda)\\nEmail: ayuda@kreadores.pro\\nWhatsapp: +56 9 9161 6642\\nInformación de sitio web\\nKreadores.pro no posee tiendas físicas.\\nTienda Online 24/7\\nLas ventas corporativas de Kreadores.pro son procesadas por New Line Chile Distribution.']"
      ]
     },
     "execution_count": 66,
     "metadata": {},
     "output_type": "execute_result"
    }
   ],
   "source": [
    "chunks"
   ]
  },
  {
   "cell_type": "markdown",
   "id": "ac23a974",
   "metadata": {},
   "source": [
    "Se añade la metadata"
   ]
  },
  {
   "cell_type": "code",
   "execution_count": null,
   "id": "798f2268",
   "metadata": {},
   "outputs": [],
   "source": [
    "import re\n",
    "\n",
    "\n",
    "politicas= { 'Politica de reembolso':['1. Derecho a Retracto',\n",
    " '2. Garantía Legal por Producto Defectuoso',\n",
    " '3. Cambios Voluntarios',\n",
    " '4. Productos Excluidos de Reembolso o Cambio',\n",
    " '5. Procedimiento de Devolución',\n",
    " '6. Reembolsos','7. Costos de Envío en Devoluciones',\n",
    " '8. Dudas y Contacto'], \n",
    " 'Politica de envio': [ '1. Despachos a Nivel Nacional',\n",
    " '2. Plazos de despacho y entrega',\n",
    " '3. Horario de corte para procesamiento de pedidos',\n",
    " '4. Seguimiento de envío',\n",
    " '5. Responsabilidad del cliente',\n",
    " '6. Problemas con la entrega']}\n",
    "\n",
    "chunks_metadata= []\n",
    "for chunk in chunks:\n",
    "    match_seccion= re.search(r\"^\\d+\\.\\s+.+\", chunk)\n",
    "    if match_seccion:\n",
    "        seccion= match_seccion.group(0)\n",
    "    else:\n",
    "        seccion='General'\n",
    "\n",
    "    for politica, secciones in politicas.items():\n",
    "        if seccion in secciones:\n",
    "            politica_metadata= politica\n",
    "            break\n",
    "        else:\n",
    "            politica_metadata='Otros'\n",
    "\n",
    "    # agrega la metadata\n",
    "    chunks_metadata.append( {\n",
    "        'text': chunk,\n",
    "        'metadata': {\n",
    "            'politica':politica_metadata,\n",
    "            'seccion': seccion\n",
    "        }\n",
    "    })\n"
   ]
  },
  {
   "cell_type": "code",
   "execution_count": 99,
   "id": "71256006",
   "metadata": {},
   "outputs": [
    {
     "data": {
      "text/plain": [
       "[{'text': 'Política de reembolso:\\nPolítica de reembolso\\nPolítica de Reembolsos, Cambios y Devoluciones\\nNew Line Chile SpA | Kreadores.cl\\nÚltima actualización: 11-06-2025\\nEn kreadores.cl nos tomamos en serio la protección de tus derechos como consumidor. Por eso, esta política ha sido elaborada conforme a lo establecido en la Ley N° 19.496 sobre Protección de los Derechos de los Consumidores de Chile y en cumplimiento con los requisitos de Google Merchant Center.\\nEsta política aplica a todas las compras realizadas a través de nuestro sitio web: https://www.kreadores.cl',\n",
       "  'metadata': {'politica': 'Otros', 'seccion': 'General'}},\n",
       " {'text': '1. Derecho a Retracto\\nSegún lo dispuesto en el artículo 3 bis de la Ley del Consumidor chilena, si compraste un producto por internet y fue entregado a domicilio, tienes derecho a retractarte de la compra dentro de un plazo de 30 días corridos desde la compra, siempre que:\\nEl producto no haya sido usado, abierto ni dañado.\\nEsté en su empaque original, sellado y en perfectas condiciones.\\nSe acompañe con la boleta o comprobante de compra.\\nNo haya sido adquirido en liquidación o con descuentos especiales.\\nEn este caso, los costos de cambio son gratuitos.',\n",
       "  'metadata': {'politica': 'Politica de reembolso',\n",
       "   'seccion': '1. Derecho a Retracto'}},\n",
       " {'text': '2. Garantía Legal por Producto Defectuoso\\nSi el producto presenta fallas de fábrica o funcionamiento dentro de los 6 meses posteriores a la entrega, puedes optar —según tu preferencia— por:\\nReparación gratuita.\\nReposición del producto.\\nDevolución del dinero.\\nNo se aplicará la garantía legal si el producto fue:\\nIntervenido o reparado por terceros no autorizados.\\nDañado por mal uso, golpes, humedad o instalación incorrecta.\\nUsado de forma distinta a lo indicado en su ficha técnica o manual.\\nPara iniciar un proceso de garantía, escríbenos a ayuda@kreadores.cl adjuntando:\\nNúmero de pedido.\\nDescripción del defecto.\\nFotografías del producto.\\nTe responderemos en un máximo de 5 días hábiles.',\n",
       "  'metadata': {'politica': 'Politica de reembolso',\n",
       "   'seccion': '2. Garantía Legal por Producto Defectuoso'}},\n",
       " {'text': '3. Cambios Voluntarios\\nAdemás del derecho a retracto y la garantía legal, aceptamos cambios voluntarios dentro de un plazo de 10 días desde la entrega, siempre que:\\nEl producto no haya sido usado ni dañado.\\nSe encuentre en perfectas condiciones, con todos sus accesorios y empaques.\\nNo haya sido adquirido en liquidación o con descuentos especiales.\\nEn este caso, los costos de envío corren por cuenta del cliente.',\n",
       "  'metadata': {'politica': 'Politica de reembolso',\n",
       "   'seccion': '3. Cambios Voluntarios'}},\n",
       " {'text': '4. Productos Excluidos de Reembolso o Cambio\\nPor razones legales y sanitarias, no se aceptan cambios ni devoluciones de:\\nTarjetas de regalo (gift cards).\\nProductos de higiene personal, salud o estética que hayan sido abiertos.\\nProductos personalizados o a pedido.\\nDescargas digitales o contenido digital una vez iniciado el acceso.',\n",
       "  'metadata': {'politica': 'Politica de reembolso',\n",
       "   'seccion': '4. Productos Excluidos de Reembolso o Cambio'}},\n",
       " {'text': '5. Procedimiento de Devolución\\nSolicita tu devolución escribiendo a ayuda@kreadores.cl, indicando número de pedido, motivo y pruebas (fotos si aplica).\\nEvaluaremos tu solicitud en un máximo de 5 días hábiles.\\nSi es aprobada, te indicaremos la dirección para devolver el producto.\\nUna vez recibido e inspeccionado, te notificaremos por correo la aprobación o rechazo del reembolso.',\n",
       "  'metadata': {'politica': 'Politica de reembolso',\n",
       "   'seccion': '5. Procedimiento de Devolución'}},\n",
       " {'text': '6. Reembolsos\\nSi la devolución es aprobada, el reembolso se realizará por el mismo medio de pago utilizado en la compra. Si pagaste por transferencia, necesitaremos tus datos bancarios.\\nEl plazo de reembolso puede variar, pero no excederá de 10 días hábiles desde la aprobación.\\nImportante: los costos de envío originales no son reembolsables, salvo que el motivo de la devolución sea una falla del producto o error imputable a kreadores.cl.',\n",
       "  'metadata': {'politica': 'Politica de reembolso',\n",
       "   'seccion': '6. Reembolsos'}},\n",
       " {'text': '7. Costos de Envío en Devoluciones\\nEl cliente asume el costo del envío de devolución, salvo en casos de productos defectuosos o errores de despacho.\\nSi corresponde reembolso, el costo de envío original se descontará del monto reembolsado cuando sea responsabilidad del cliente.\\nNo se aceptan devoluciones enviadas directamente al fabricante.\\nLa dirección de retorno será informada por correo una vez aprobado el proceso.',\n",
       "  'metadata': {'politica': 'Politica de reembolso',\n",
       "   'seccion': '7. Costos de Envío en Devoluciones'}},\n",
       " {'text': '8. Dudas y Contacto\\nSi tienes preguntas sobre esta política o el estado de tu solicitud, puedes comunicarte con nosotros a través de:\\nCorreo electrónico: ayuda@kreadores.cl\\nWhatsApp: +56 9 9161 6642\\nDirección legal: Av. El Retiro 9800, Pudahuel, Región Metropolitana, Chile\\nEsta política está sujeta a modificaciones sin previo aviso, pero siempre respetando tus derechos establecidos por la ley. Te recomendamos revisarla periódicamente antes de realizar una compra.\\nPolítica de Envío\\nÚltima actualización: [actualizar fecha]\\nEn Kreadores.cl, nos comprometemos a despachar tus pedidos de forma rápida y segura, asegurando una experiencia eficiente desde la compra hasta la recepción del producto.',\n",
       "  'metadata': {'politica': 'Politica de reembolso',\n",
       "   'seccion': '8. Dudas y Contacto'}},\n",
       " {'text': '1. Despachos a Nivel Nacional\\nRealizamos envíos a todo Chile a través de Bluexpress, nuestro operador logístico oficial.',\n",
       "  'metadata': {'politica': 'Politica de envio',\n",
       "   'seccion': '1. Despachos a Nivel Nacional'}},\n",
       " {'text': '2. Plazos de despacho y entrega\\nTodos los pedidos son procesados y despachados dentro de un plazo máximo de 24 horas hábiles después de confirmada la compra.\\nLos tiempos de entrega varían entre el mismo día y hasta 5 días hábiles, dependiendo de la comuna y localidad del destinatario.\\nDurante eventos especiales como CyberDay, Black Friday u otras promociones masivas, los plazos de entrega podrían extenderse hasta 3 días hábiles adicionales.',\n",
       "  'metadata': {'politica': 'Politica de envio',\n",
       "   'seccion': '2. Plazos de despacho y entrega'}},\n",
       " {'text': '3. Horario de corte para procesamiento de pedidos\\nLos pedidos confirmados antes de las 12:00 horas (mediodía) serán procesados ese mismo día hábil.\\nLas compras realizadas después de las 12:00 horas se procesarán el siguiente día hábil.',\n",
       "  'metadata': {'politica': 'Politica de envio',\n",
       "   'seccion': '3. Horario de corte para procesamiento de pedidos'}},\n",
       " {'text': '4. Seguimiento de envío\\nUna vez que tu pedido sea despachado, recibirás un correo electrónico con el número de seguimiento para que puedas monitorear el estado de entrega directamente en el sitio de Bluexpress.',\n",
       "  'metadata': {'politica': 'Politica de envio',\n",
       "   'seccion': '4. Seguimiento de envío'}},\n",
       " {'text': '5. Responsabilidad del cliente\\nEs responsabilidad del cliente ingresar correctamente los datos de envío al momento de la compra. Kreadores.cl no se hace responsable por retrasos o entregas fallidas causadas por direcciones incorrectas o incompletas.',\n",
       "  'metadata': {'politica': 'Politica de envio',\n",
       "   'seccion': '5. Responsabilidad del cliente'}},\n",
       " {'text': '6. Problemas con la entrega\\nSi experimentas algún problema con el despacho, puedes escribirnos a ayuda@kreadores.pro o contactarnos por WhatsApp al +56 9 9161 6642, y con gusto te ayudaremos a resolverlo.\\nDatos de contacto\\nDirección: Av. El Retiro 9800, Pudahuel, Región Metropolitana. (Es una bodega, no se puede ir a una tienda)\\nEmail: ayuda@kreadores.pro\\nWhatsapp: +56 9 9161 6642\\nInformación de sitio web\\nKreadores.pro no posee tiendas físicas.\\nTienda Online 24/7\\nLas ventas corporativas de Kreadores.pro son procesadas por New Line Chile Distribution.',\n",
       "  'metadata': {'politica': 'Politica de envio',\n",
       "   'seccion': '6. Problemas con la entrega'}}]"
      ]
     },
     "execution_count": 99,
     "metadata": {},
     "output_type": "execute_result"
    }
   ],
   "source": [
    "chunks_metadata"
   ]
  },
  {
   "cell_type": "markdown",
   "id": "6fce38ff",
   "metadata": {},
   "source": [
    "## Implementación del modelo"
   ]
  },
  {
   "cell_type": "markdown",
   "id": "6dbbc01c",
   "metadata": {},
   "source": [
    "Características principales del documento:\n",
    "- Texto\n",
    "- Español"
   ]
  },
  {
   "cell_type": "code",
   "execution_count": null,
   "id": "a6f5f7d3",
   "metadata": {},
   "outputs": [],
   "source": [
    "from fastembed import TextEmbedding\n",
    "\n",
    "# modelos disponibles\n",
    "modelos= TextEmbedding.list_supported_models()\n",
    "modelos"
   ]
  },
  {
   "cell_type": "code",
   "execution_count": 113,
   "id": "2a949887",
   "metadata": {},
   "outputs": [
    {
     "name": "stdout",
     "output_type": "stream",
     "text": [
      "BAAI/bge-small-zh-v1.5 Text embeddings, Unimodal (text), Chinese, 512 input tokens truncation, Prefixes for queries/documents: not so necessary, 2023 year. \n",
      " 512 \n",
      "\n",
      "sentence-transformers/paraphrase-multilingual-MiniLM-L12-v2 Text embeddings, Unimodal (text), Multilingual (~50 languages), 512 input tokens truncation, Prefixes for queries/documents: not necessary, 2019 year. \n",
      " 384 \n",
      "\n",
      "sentence-transformers/paraphrase-multilingual-mpnet-base-v2 Text embeddings, Unimodal (text), Multilingual (~50 languages), 384 input tokens truncation, Prefixes for queries/documents: not necessary, 2021 year. \n",
      " 768 \n",
      "\n",
      "intfloat/multilingual-e5-large Text embeddings, Unimodal (text), Multilingual (~100 languages), 512 input tokens truncation, Prefixes for queries/documents: necessary, 2024 year. \n",
      " 1024 \n",
      "\n",
      "jinaai/jina-embeddings-v3 Multi-task unimodal (text) embedding model, multi-lingual (~100), 1024 tokens truncation, and 8192 sequence length. Prefixes for queries/documents: not necessary, 2024 year. \n",
      " 1024 \n",
      "\n"
     ]
    }
   ],
   "source": [
    "for modelo in modelos:\n",
    "    if 'English'not in modelo['description']:\n",
    "        print(modelo['model'],modelo['description'], '\\n',modelo['dim'], '\\n')"
   ]
  },
  {
   "cell_type": "markdown",
   "id": "0bbc14a6",
   "metadata": {},
   "source": [
    "Como solicitan una dimensionalidad de 1536, y como los vectores y la query deben tener la mismas dimensiones. Entonces se descarta uso de FastEmbed. \n",
    "Se procede a evaluar OpenAi"
   ]
  },
  {
   "cell_type": "markdown",
   "id": "457a856b",
   "metadata": {},
   "source": [
    "OPENAI"
   ]
  },
  {
   "cell_type": "code",
   "execution_count": 116,
   "id": "fcb221a3",
   "metadata": {},
   "outputs": [
    {
     "data": {
      "text/plain": [
       "<openai.OpenAI at 0x76c0f0b45040>"
      ]
     },
     "execution_count": 116,
     "metadata": {},
     "output_type": "execute_result"
    }
   ],
   "source": [
    "from dotenv import load_dotenv\n",
    "import os\n",
    "from openai import OpenAI\n",
    "\n",
    "load_dotenv()\n",
    "api_key=os.getenv('OPENAI_API_KEY')\n",
    "cliente= OpenAI()\n",
    "cliente"
   ]
  },
  {
   "cell_type": "code",
   "execution_count": null,
   "id": "2af535e0",
   "metadata": {},
   "outputs": [],
   "source": [
    "response = cliente.embeddings.create(\n",
    "    input= chunks_metadata\n",
    ")"
   ]
  },
  {
   "cell_type": "code",
   "execution_count": null,
   "id": "600e0c45",
   "metadata": {},
   "outputs": [],
   "source": [
    "# from openai import OpenAI\n",
    "# client = OpenAI()\n",
    "\n",
    "# response = client.embeddings.create(\n",
    "#     input=\"Your text string goes here\",\n",
    "#     model=\"text-embedding-3-small\"\n",
    "# )\n",
    "\n",
    "# print(response.data[0].embedding)"
   ]
  }
 ],
 "metadata": {
  "kernelspec": {
   "display_name": "Python 3",
   "language": "python",
   "name": "python3"
  },
  "language_info": {
   "codemirror_mode": {
    "name": "ipython",
    "version": 3
   },
   "file_extension": ".py",
   "mimetype": "text/x-python",
   "name": "python",
   "nbconvert_exporter": "python",
   "pygments_lexer": "ipython3",
   "version": "3.12.1"
  }
 },
 "nbformat": 4,
 "nbformat_minor": 5
}
