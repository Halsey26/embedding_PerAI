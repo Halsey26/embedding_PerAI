{
 "cells": [
  {
   "cell_type": "code",
   "execution_count": 4,
   "id": "6739a439",
   "metadata": {},
   "outputs": [],
   "source": [
    "import json\n",
    "\n",
    "with open('embeddings_output.json') as f:\n",
    "    embed= json.load(f)"
   ]
  },
  {
   "cell_type": "code",
   "execution_count": null,
   "id": "dc83f194",
   "metadata": {},
   "outputs": [],
   "source": [
    "embed[0]"
   ]
  },
  {
   "cell_type": "code",
   "execution_count": 5,
   "id": "0c42585e",
   "metadata": {},
   "outputs": [
    {
     "data": {
      "text/plain": [
       "384"
      ]
     },
     "execution_count": 5,
     "metadata": {},
     "output_type": "execute_result"
    }
   ],
   "source": [
    "len(embed[2]['embedding'])"
   ]
  },
  {
   "cell_type": "markdown",
   "id": "47458165",
   "metadata": {},
   "source": [
    "# Generación de embeddings para sistema RAG\n",
    "- **Objetivo**: Entregar embeddings generados a AI Devs para que lo implemente en sistema RAG del agente eCommerce\n",
    "- **Proceso**: realizar desde el proceso de Chunking, evaluar los documentos generados para elegir el modelo, generar el embedding, evaluar resultados con implementación de Rag con OpenAI."
   ]
  },
  {
   "cell_type": "markdown",
   "id": "1ec4a561",
   "metadata": {},
   "source": [
    "## Chunking\n",
    "**Requisitos**\n",
    "- *Tamaño óptimo:* 200-500 tokens por chunk\n",
    "- *Overlap:* 50-100 tokens entre chunks consecutivos\n",
    "- *Estrategias:*\n",
    "  - Por párrafos (para políticas)\n",
    "  - Por producto individual (para catálogos) (ya lo maneja equipo de AI devs)\n",
    "  - Por pregunta-respuesta (para FAQs)\n",
    "\n",
    "- Metadatos propuestos:\n",
    "  - politica de reembolso, politica de envio\n",
    "  -  Secciones: "
   ]
  },
  {
   "cell_type": "code",
   "execution_count": null,
   "id": "06bf002d",
   "metadata": {},
   "outputs": [],
   "source": [
    "from docx import Document\n",
    "import json\n",
    "\n",
    "doc= Document('docs/Recursos.docx')\n",
    "\n"
   ]
  },
  {
   "cell_type": "code",
   "execution_count": 23,
   "id": "99fa55c2",
   "metadata": {},
   "outputs": [
    {
     "data": {
      "text/plain": [
       "'En kreadores.cl nos tomamos en serio la protección de tus derechos como consumidor. Por eso, esta política ha sido elaborada conforme a lo establecido en la Ley N° 19.496 sobre Protección de los Derechos de los Consumidores de Chile y en cumplimiento con los requisitos de Google Merchant Center.'"
      ]
     },
     "execution_count": 23,
     "metadata": {},
     "output_type": "execute_result"
    }
   ],
   "source": [
    "# Cada párrafo\n",
    "doc.paragraphs[3].text"
   ]
  },
  {
   "cell_type": "code",
   "execution_count": null,
   "id": "d80afd20",
   "metadata": {},
   "outputs": [],
   "source": [
    "# Extracción del texto\n",
    "parrafos= []\n",
    "for texto in doc.paragraphs:\n",
    "    if texto.text: # si hay texto en la línea\n",
    "        parrafos.append(texto.text.strip())\n",
    "\n",
    "# Lo unimos en un solo string\n",
    "texto_completo = \"\\n\".join(parrafos)\n"
   ]
  },
  {
   "cell_type": "markdown",
   "id": "71ee921b",
   "metadata": {},
   "source": [
    "Chunking - División en fragmentos"
   ]
  },
  {
   "cell_type": "code",
   "execution_count": 65,
   "id": "13b3a4d6",
   "metadata": {},
   "outputs": [],
   "source": [
    "import re\n",
    "\n",
    "# division por titulos numerados y separadores\n",
    "chunks= re.split(r\"(?:\\n_{5,}\\n|\\n{2,}|(?=\\n\\d\\.))\",texto_completo)\n",
    "chunks = [chunk.strip() for chunk in chunks if chunk.strip()]\n",
    "\n"
   ]
  },
  {
   "cell_type": "code",
   "execution_count": null,
   "id": "155ae88f",
   "metadata": {},
   "outputs": [
    {
     "data": {
      "text/plain": [
       "15"
      ]
     },
     "execution_count": 44,
     "metadata": {},
     "output_type": "execute_result"
    }
   ],
   "source": [
    "len(chunks)"
   ]
  },
  {
   "cell_type": "code",
   "execution_count": 101,
   "id": "e8c08a45",
   "metadata": {},
   "outputs": [
    {
     "name": "stdout",
     "output_type": "stream",
     "text": [
      "Máxima longitud de chunk generado: 697\n"
     ]
    }
   ],
   "source": [
    "tamanio= []\n",
    "for i in chunks:\n",
    "    tamanio.append(len(i))\n",
    "print(f'Máxima longitud de chunk generado: {max(tamanio)}')"
   ]
  },
  {
   "cell_type": "code",
   "execution_count": 66,
   "id": "a85f3933",
   "metadata": {},
   "outputs": [
    {
     "data": {
      "text/plain": [
       "['Política de reembolso:\\nPolítica de reembolso\\nPolítica de Reembolsos, Cambios y Devoluciones\\nNew Line Chile SpA | Kreadores.cl\\nÚltima actualización: 11-06-2025\\nEn kreadores.cl nos tomamos en serio la protección de tus derechos como consumidor. Por eso, esta política ha sido elaborada conforme a lo establecido en la Ley N° 19.496 sobre Protección de los Derechos de los Consumidores de Chile y en cumplimiento con los requisitos de Google Merchant Center.\\nEsta política aplica a todas las compras realizadas a través de nuestro sitio web: https://www.kreadores.cl',\n",
       " '1. Derecho a Retracto\\nSegún lo dispuesto en el artículo 3 bis de la Ley del Consumidor chilena, si compraste un producto por internet y fue entregado a domicilio, tienes derecho a retractarte de la compra dentro de un plazo de 30 días corridos desde la compra, siempre que:\\nEl producto no haya sido usado, abierto ni dañado.\\nEsté en su empaque original, sellado y en perfectas condiciones.\\nSe acompañe con la boleta o comprobante de compra.\\nNo haya sido adquirido en liquidación o con descuentos especiales.\\nEn este caso, los costos de cambio son gratuitos.',\n",
       " '2. Garantía Legal por Producto Defectuoso\\nSi el producto presenta fallas de fábrica o funcionamiento dentro de los 6 meses posteriores a la entrega, puedes optar —según tu preferencia— por:\\nReparación gratuita.\\nReposición del producto.\\nDevolución del dinero.\\nNo se aplicará la garantía legal si el producto fue:\\nIntervenido o reparado por terceros no autorizados.\\nDañado por mal uso, golpes, humedad o instalación incorrecta.\\nUsado de forma distinta a lo indicado en su ficha técnica o manual.\\nPara iniciar un proceso de garantía, escríbenos a ayuda@kreadores.cl adjuntando:\\nNúmero de pedido.\\nDescripción del defecto.\\nFotografías del producto.\\nTe responderemos en un máximo de 5 días hábiles.',\n",
       " '3. Cambios Voluntarios\\nAdemás del derecho a retracto y la garantía legal, aceptamos cambios voluntarios dentro de un plazo de 10 días desde la entrega, siempre que:\\nEl producto no haya sido usado ni dañado.\\nSe encuentre en perfectas condiciones, con todos sus accesorios y empaques.\\nNo haya sido adquirido en liquidación o con descuentos especiales.\\nEn este caso, los costos de envío corren por cuenta del cliente.',\n",
       " '4. Productos Excluidos de Reembolso o Cambio\\nPor razones legales y sanitarias, no se aceptan cambios ni devoluciones de:\\nTarjetas de regalo (gift cards).\\nProductos de higiene personal, salud o estética que hayan sido abiertos.\\nProductos personalizados o a pedido.\\nDescargas digitales o contenido digital una vez iniciado el acceso.',\n",
       " '5. Procedimiento de Devolución\\nSolicita tu devolución escribiendo a ayuda@kreadores.cl, indicando número de pedido, motivo y pruebas (fotos si aplica).\\nEvaluaremos tu solicitud en un máximo de 5 días hábiles.\\nSi es aprobada, te indicaremos la dirección para devolver el producto.\\nUna vez recibido e inspeccionado, te notificaremos por correo la aprobación o rechazo del reembolso.',\n",
       " '6. Reembolsos\\nSi la devolución es aprobada, el reembolso se realizará por el mismo medio de pago utilizado en la compra. Si pagaste por transferencia, necesitaremos tus datos bancarios.\\nEl plazo de reembolso puede variar, pero no excederá de 10 días hábiles desde la aprobación.\\nImportante: los costos de envío originales no son reembolsables, salvo que el motivo de la devolución sea una falla del producto o error imputable a kreadores.cl.',\n",
       " '7. Costos de Envío en Devoluciones\\nEl cliente asume el costo del envío de devolución, salvo en casos de productos defectuosos o errores de despacho.\\nSi corresponde reembolso, el costo de envío original se descontará del monto reembolsado cuando sea responsabilidad del cliente.\\nNo se aceptan devoluciones enviadas directamente al fabricante.\\nLa dirección de retorno será informada por correo una vez aprobado el proceso.',\n",
       " '8. Dudas y Contacto\\nSi tienes preguntas sobre esta política o el estado de tu solicitud, puedes comunicarte con nosotros a través de:\\nCorreo electrónico: ayuda@kreadores.cl\\nWhatsApp: +56 9 9161 6642\\nDirección legal: Av. El Retiro 9800, Pudahuel, Región Metropolitana, Chile\\nEsta política está sujeta a modificaciones sin previo aviso, pero siempre respetando tus derechos establecidos por la ley. Te recomendamos revisarla periódicamente antes de realizar una compra.\\nPolítica de Envío\\nÚltima actualización: [actualizar fecha]\\nEn Kreadores.cl, nos comprometemos a despachar tus pedidos de forma rápida y segura, asegurando una experiencia eficiente desde la compra hasta la recepción del producto.',\n",
       " '1. Despachos a Nivel Nacional\\nRealizamos envíos a todo Chile a través de Bluexpress, nuestro operador logístico oficial.',\n",
       " '2. Plazos de despacho y entrega\\nTodos los pedidos son procesados y despachados dentro de un plazo máximo de 24 horas hábiles después de confirmada la compra.\\nLos tiempos de entrega varían entre el mismo día y hasta 5 días hábiles, dependiendo de la comuna y localidad del destinatario.\\nDurante eventos especiales como CyberDay, Black Friday u otras promociones masivas, los plazos de entrega podrían extenderse hasta 3 días hábiles adicionales.',\n",
       " '3. Horario de corte para procesamiento de pedidos\\nLos pedidos confirmados antes de las 12:00 horas (mediodía) serán procesados ese mismo día hábil.\\nLas compras realizadas después de las 12:00 horas se procesarán el siguiente día hábil.',\n",
       " '4. Seguimiento de envío\\nUna vez que tu pedido sea despachado, recibirás un correo electrónico con el número de seguimiento para que puedas monitorear el estado de entrega directamente en el sitio de Bluexpress.',\n",
       " '5. Responsabilidad del cliente\\nEs responsabilidad del cliente ingresar correctamente los datos de envío al momento de la compra. Kreadores.cl no se hace responsable por retrasos o entregas fallidas causadas por direcciones incorrectas o incompletas.',\n",
       " '6. Problemas con la entrega\\nSi experimentas algún problema con el despacho, puedes escribirnos a ayuda@kreadores.pro o contactarnos por WhatsApp al +56 9 9161 6642, y con gusto te ayudaremos a resolverlo.\\nDatos de contacto\\nDirección: Av. El Retiro 9800, Pudahuel, Región Metropolitana. (Es una bodega, no se puede ir a una tienda)\\nEmail: ayuda@kreadores.pro\\nWhatsapp: +56 9 9161 6642\\nInformación de sitio web\\nKreadores.pro no posee tiendas físicas.\\nTienda Online 24/7\\nLas ventas corporativas de Kreadores.pro son procesadas por New Line Chile Distribution.']"
      ]
     },
     "execution_count": 66,
     "metadata": {},
     "output_type": "execute_result"
    }
   ],
   "source": [
    "chunks"
   ]
  },
  {
   "cell_type": "markdown",
   "id": "ac23a974",
   "metadata": {},
   "source": [
    "Se añade la metadata"
   ]
  },
  {
   "cell_type": "code",
   "execution_count": null,
   "id": "798f2268",
   "metadata": {},
   "outputs": [],
   "source": [
    "import re\n",
    "\n",
    "\n",
    "politicas= { 'Politica de reembolso':['1. Derecho a Retracto',\n",
    " '2. Garantía Legal por Producto Defectuoso',\n",
    " '3. Cambios Voluntarios',\n",
    " '4. Productos Excluidos de Reembolso o Cambio',\n",
    " '5. Procedimiento de Devolución',\n",
    " '6. Reembolsos','7. Costos de Envío en Devoluciones',\n",
    " '8. Dudas y Contacto'], \n",
    " 'Politica de envio': [ '1. Despachos a Nivel Nacional',\n",
    " '2. Plazos de despacho y entrega',\n",
    " '3. Horario de corte para procesamiento de pedidos',\n",
    " '4. Seguimiento de envío',\n",
    " '5. Responsabilidad del cliente',\n",
    " '6. Problemas con la entrega']}\n",
    "\n",
    "chunks_metadata= []\n",
    "for chunk in chunks:\n",
    "    match_seccion= re.search(r\"^\\d+\\.\\s+.+\", chunk)\n",
    "    if match_seccion:\n",
    "        seccion= match_seccion.group(0)\n",
    "    else:\n",
    "        seccion='General'\n",
    "\n",
    "    for politica, secciones in politicas.items():\n",
    "        if seccion in secciones:\n",
    "            politica_metadata= politica\n",
    "            break\n",
    "        else:\n",
    "            politica_metadata='Otros'\n",
    "\n",
    "    # agrega la metadata\n",
    "    chunks_metadata.append( {\n",
    "        'text': chunk,\n",
    "        'metadata': {\n",
    "            'politica':politica_metadata,\n",
    "            'seccion': seccion\n",
    "        }\n",
    "    })\n"
   ]
  },
  {
   "cell_type": "markdown",
   "id": "b515c305",
   "metadata": {},
   "source": [
    "Añadiendo los FAQ"
   ]
  },
  {
   "cell_type": "code",
   "execution_count": null,
   "id": "42c75f35",
   "metadata": {},
   "outputs": [],
   "source": [
    "# como son pocas en una lista\n",
    "faqs = [\n",
    "    \"¿Cuándo llegará el pedido a mi casa?\",\n",
    "    \"¿Qué productos debo comprar? acá es indispensable preguntar para qué se usará el equipo y qué presupuesto se dispone.\",\n",
    "    \"¿Quiero saber si hacen colaboración o canje?\",\n",
    "    \"¿Este producto es compatible con mi cámara? Acá debemos saber qué cámara tiene el cliente para saber si es compatible o no.\",\n",
    "    \"¿Me podrían hacer un descuento?\"\n",
    "]\n",
    "\n",
    "# se agregan como chunks adicionales\n",
    "for pregunta in faqs:\n",
    "    chunks_metadata.append({\n",
    "        \"text\": pregunta,\n",
    "        \"metadata\": {\n",
    "            \"politica\": \"FAQ\",\n",
    "            \"seccion\": \"Pregunta Frecuente\"\n",
    "        }\n",
    "    })\n"
   ]
  },
  {
   "cell_type": "code",
   "execution_count": 155,
   "id": "71256006",
   "metadata": {},
   "outputs": [
    {
     "data": {
      "text/plain": [
       "{'text': 'Política de reembolso:\\nPolítica de reembolso\\nPolítica de Reembolsos, Cambios y Devoluciones\\nNew Line Chile SpA | Kreadores.cl\\nÚltima actualización: 11-06-2025\\nEn kreadores.cl nos tomamos en serio la protección de tus derechos como consumidor. Por eso, esta política ha sido elaborada conforme a lo establecido en la Ley N° 19.496 sobre Protección de los Derechos de los Consumidores de Chile y en cumplimiento con los requisitos de Google Merchant Center.\\nEsta política aplica a todas las compras realizadas a través de nuestro sitio web: https://www.kreadores.cl',\n",
       " 'metadata': {'politica': 'Otros', 'seccion': 'General'}}"
      ]
     },
     "execution_count": 155,
     "metadata": {},
     "output_type": "execute_result"
    }
   ],
   "source": [
    "chunks_metadata[0]"
   ]
  },
  {
   "cell_type": "markdown",
   "id": "6fce38ff",
   "metadata": {},
   "source": [
    "## Implementación del modelo y embedding"
   ]
  },
  {
   "cell_type": "markdown",
   "id": "6dbbc01c",
   "metadata": {},
   "source": [
    "Características principales del documento:\n",
    "- Texto\n",
    "- Español"
   ]
  },
  {
   "cell_type": "code",
   "execution_count": null,
   "id": "a6f5f7d3",
   "metadata": {},
   "outputs": [],
   "source": [
    "from fastembed import TextEmbedding\n",
    "\n",
    "# modelos disponibles\n",
    "modelos= TextEmbedding.list_supported_models()\n",
    "modelos"
   ]
  },
  {
   "cell_type": "code",
   "execution_count": 113,
   "id": "2a949887",
   "metadata": {},
   "outputs": [
    {
     "name": "stdout",
     "output_type": "stream",
     "text": [
      "BAAI/bge-small-zh-v1.5 Text embeddings, Unimodal (text), Chinese, 512 input tokens truncation, Prefixes for queries/documents: not so necessary, 2023 year. \n",
      " 512 \n",
      "\n",
      "sentence-transformers/paraphrase-multilingual-MiniLM-L12-v2 Text embeddings, Unimodal (text), Multilingual (~50 languages), 512 input tokens truncation, Prefixes for queries/documents: not necessary, 2019 year. \n",
      " 384 \n",
      "\n",
      "sentence-transformers/paraphrase-multilingual-mpnet-base-v2 Text embeddings, Unimodal (text), Multilingual (~50 languages), 384 input tokens truncation, Prefixes for queries/documents: not necessary, 2021 year. \n",
      " 768 \n",
      "\n",
      "intfloat/multilingual-e5-large Text embeddings, Unimodal (text), Multilingual (~100 languages), 512 input tokens truncation, Prefixes for queries/documents: necessary, 2024 year. \n",
      " 1024 \n",
      "\n",
      "jinaai/jina-embeddings-v3 Multi-task unimodal (text) embedding model, multi-lingual (~100), 1024 tokens truncation, and 8192 sequence length. Prefixes for queries/documents: not necessary, 2024 year. \n",
      " 1024 \n",
      "\n"
     ]
    }
   ],
   "source": [
    "for modelo in modelos:\n",
    "    if 'English'not in modelo['description']:\n",
    "        print(modelo['model'],modelo['description'], '\\n',modelo['dim'], '\\n')"
   ]
  },
  {
   "cell_type": "markdown",
   "id": "0bbc14a6",
   "metadata": {},
   "source": [
    "Como solicitan una dimensionalidad de 1536, y como los vectores y la query deben tener la mismas dimensiones. Entonces se descarta uso de FastEmbed. \n",
    "Se procede a evaluar OpenAi."
   ]
  },
  {
   "cell_type": "markdown",
   "id": "457a856b",
   "metadata": {},
   "source": [
    "Modelos OPENAI\n",
    "- 'text-embedding-3-small': 1536 (*modelo seleccionado*)\n",
    "- 'text-embedding-3-large': 3072\n",
    "\n",
    "Estructura del embedding:\n",
    "- Cada embedding se guarda con:\n",
    "  - Vector numérico (1536 dimensiones típicamente)\n",
    "  - Texto original\n",
    "  - Metadatos (categoría, fuente, fecha)\n"
   ]
  },
  {
   "cell_type": "code",
   "execution_count": null,
   "id": "fcb221a3",
   "metadata": {},
   "outputs": [
    {
     "data": {
      "text/plain": [
       "<openai.OpenAI at 0x76c0fa4b6b10>"
      ]
     },
     "execution_count": 124,
     "metadata": {},
     "output_type": "execute_result"
    }
   ],
   "source": [
    "from dotenv import load_dotenv\n",
    "import os\n",
    "from openai import OpenAI\n",
    "\n",
    "load_dotenv()\n",
    "api_key=os.getenv('OPENAI_API_KEY')\n",
    "cliente= OpenAI()\n",
    "cliente"
   ]
  },
  {
   "cell_type": "code",
   "execution_count": 156,
   "id": "2af535e0",
   "metadata": {},
   "outputs": [],
   "source": [
    "embedding_recursos=[]\n",
    "modelo_seleccionado = \"text-embedding-3-small\"\n",
    "for chunk in chunks_metadata:\n",
    "    response = cliente.embeddings.create(\n",
    "        input= chunk['text'], \n",
    "        model = modelo_seleccionado\n",
    "    )\n",
    "\n",
    "    embedding= response.data[0].embedding\n",
    "\n",
    "    embedding_recursos.append({\n",
    "        'vector': embedding, \n",
    "        'text': chunk['text'], \n",
    "        'metadata':chunk['metadata']\n",
    "    })\n",
    "\n"
   ]
  },
  {
   "cell_type": "code",
   "execution_count": 157,
   "id": "a48552d7",
   "metadata": {},
   "outputs": [
    {
     "name": "stdout",
     "output_type": "stream",
     "text": [
      "Dimensiones del vector: 1536\n"
     ]
    }
   ],
   "source": [
    "print('Dimensiones del vector:', len(embedding_recursos[0]['vector']))"
   ]
  },
  {
   "cell_type": "markdown",
   "id": "2a7a905e",
   "metadata": {},
   "source": [
    "Exportar los embedding"
   ]
  },
  {
   "cell_type": "code",
   "execution_count": 166,
   "id": "eb27e794",
   "metadata": {},
   "outputs": [],
   "source": [
    "with open(\"json_embedding/embeddings.json\", \"w\", encoding=\"utf-8\") as file:\n",
    "    json.dump(embedding_recursos, file, ensure_ascii=False, indent=2)"
   ]
  },
  {
   "cell_type": "markdown",
   "id": "9305f0fe",
   "metadata": {},
   "source": [
    "## Carga en Qdrant"
   ]
  },
  {
   "cell_type": "code",
   "execution_count": 168,
   "id": "3c24dbbc",
   "metadata": {},
   "outputs": [],
   "source": [
    "import json\n",
    "with open('json_embedding/embeddings.json') as f:\n",
    "    embed_recursos= json.load(f)"
   ]
  },
  {
   "cell_type": "code",
   "execution_count": 144,
   "id": "600e0c45",
   "metadata": {},
   "outputs": [
    {
     "data": {
      "text/plain": [
       "<qdrant_client.qdrant_client.QdrantClient at 0x76c0f02d3dd0>"
      ]
     },
     "execution_count": 144,
     "metadata": {},
     "output_type": "execute_result"
    }
   ],
   "source": [
    "# creacion del cliente\n",
    "from qdrant_client import QdrantClient, models\n",
    "\n",
    "# primero correr el contenedor de Docker qdrant\n",
    "qdrant_cliente= QdrantClient(' http://localhost:6333')\n",
    "qdrant_cliente"
   ]
  },
  {
   "cell_type": "code",
   "execution_count": 163,
   "id": "1f3ffba3",
   "metadata": {},
   "outputs": [],
   "source": [
    "# Creación de los puntos\n",
    "# modelo_seleccionado = \"text-embedding-3-small\"\n",
    "points= []\n",
    "id = 0\n",
    "\n",
    "for elemento_embedding in embed_recursos:\n",
    "    \n",
    "    point= models.PointStruct(\n",
    "        id= id, \n",
    "        vector= elemento_embedding['vector'],\n",
    "        payload = {\n",
    "            \"text\": elemento_embedding['text'], \n",
    "            'policies': elemento_embedding['metadata']['politica'],\n",
    "            'section': elemento_embedding['metadata']['seccion']\n",
    "        }\n",
    "        \n",
    "    )\n",
    "    points.append(point)\n",
    "    id +=1\n"
   ]
  },
  {
   "cell_type": "code",
   "execution_count": 169,
   "id": "2639f6d8",
   "metadata": {},
   "outputs": [
    {
     "data": {
      "text/plain": [
       "True"
      ]
     },
     "execution_count": 169,
     "metadata": {},
     "output_type": "execute_result"
    }
   ],
   "source": [
    "# creacion de la coleccion en qdrant\n",
    "nombre_coleccion='prueba_embedding_recursos'\n",
    "dimension= 1536\n",
    "\n",
    "qdrant_cliente.create_collection(\n",
    "    collection_name= nombre_coleccion, \n",
    "    vectors_config= models.VectorParams(\n",
    "        size= dimension, \n",
    "        distance= models.Distance.COSINE\n",
    "    )\n",
    ")"
   ]
  },
  {
   "cell_type": "code",
   "execution_count": 170,
   "id": "1e59219d",
   "metadata": {},
   "outputs": [
    {
     "data": {
      "text/plain": [
       "UpdateResult(operation_id=3, status=<UpdateStatus.COMPLETED: 'completed'>)"
      ]
     },
     "execution_count": 170,
     "metadata": {},
     "output_type": "execute_result"
    }
   ],
   "source": [
    "# indexacion del payload\n",
    "qdrant_cliente.create_payload_index(\n",
    "    collection_name= nombre_coleccion,\n",
    "    field_name= 'policies', \n",
    "    field_schema= \"keyword\"\n",
    ")\n",
    "\n",
    "qdrant_cliente.create_payload_index(\n",
    "    collection_name= nombre_coleccion,\n",
    "    field_name= 'section', \n",
    "    field_schema= \"keyword\"\n",
    ")"
   ]
  },
  {
   "cell_type": "code",
   "execution_count": 172,
   "id": "8f2f557d",
   "metadata": {},
   "outputs": [
    {
     "data": {
      "text/plain": [
       "UpdateResult(operation_id=4, status=<UpdateStatus.COMPLETED: 'completed'>)"
      ]
     },
     "execution_count": 172,
     "metadata": {},
     "output_type": "execute_result"
    }
   ],
   "source": [
    "# se insertan en la coleccion\n",
    "qdrant_cliente.upsert(collection_name= nombre_coleccion, points= points)"
   ]
  },
  {
   "cell_type": "markdown",
   "id": "0e0226a2",
   "metadata": {},
   "source": [
    "## Prueba de validación en sistema RAG"
   ]
  },
  {
   "cell_type": "markdown",
   "id": "deafa6d4",
   "metadata": {},
   "source": [
    "Se crea un sistema RAG básico par validar información embebida"
   ]
  },
  {
   "cell_type": "code",
   "execution_count": 186,
   "id": "925da33d",
   "metadata": {},
   "outputs": [],
   "source": [
    "def vector_search(query):\n",
    "    # embedding de la query\n",
    "    query_response= cliente.embeddings.create(\n",
    "        input= query,\n",
    "        model= modelo_seleccionado\n",
    "    )\n",
    "    query_embed = query_response.data[0].embedding\n",
    "\n",
    "    # busqueda entre query y vectores almacenados\n",
    "    resultados= qdrant_cliente.query_points(\n",
    "        collection_name= nombre_coleccion,\n",
    "        query= query_embed, \n",
    "        limit= 5, \n",
    "        with_payload=True\n",
    "    )\n",
    "    lista_resultados=[]\n",
    "    for i in resultados.points:\n",
    "        lista_resultados.append(i.payload)\n",
    "\n",
    "    return lista_resultados"
   ]
  },
  {
   "cell_type": "code",
   "execution_count": 206,
   "id": "67b737bc",
   "metadata": {},
   "outputs": [
    {
     "data": {
      "text/plain": [
       "[{'text': '1. Derecho a Retracto\\nSegún lo dispuesto en el artículo 3 bis de la Ley del Consumidor chilena, si compraste un producto por internet y fue entregado a domicilio, tienes derecho a retractarte de la compra dentro de un plazo de 30 días corridos desde la compra, siempre que:\\nEl producto no haya sido usado, abierto ni dañado.\\nEsté en su empaque original, sellado y en perfectas condiciones.\\nSe acompañe con la boleta o comprobante de compra.\\nNo haya sido adquirido en liquidación o con descuentos especiales.\\nEn este caso, los costos de cambio son gratuitos.',\n",
       "  'policies': 'Politica de reembolso',\n",
       "  'section': '1. Derecho a Retracto'},\n",
       " {'text': '3. Cambios Voluntarios\\nAdemás del derecho a retracto y la garantía legal, aceptamos cambios voluntarios dentro de un plazo de 10 días desde la entrega, siempre que:\\nEl producto no haya sido usado ni dañado.\\nSe encuentre en perfectas condiciones, con todos sus accesorios y empaques.\\nNo haya sido adquirido en liquidación o con descuentos especiales.\\nEn este caso, los costos de envío corren por cuenta del cliente.',\n",
       "  'policies': 'Politica de reembolso',\n",
       "  'section': '3. Cambios Voluntarios'},\n",
       " {'text': '5. Procedimiento de Devolución\\nSolicita tu devolución escribiendo a ayuda@kreadores.cl, indicando número de pedido, motivo y pruebas (fotos si aplica).\\nEvaluaremos tu solicitud en un máximo de 5 días hábiles.\\nSi es aprobada, te indicaremos la dirección para devolver el producto.\\nUna vez recibido e inspeccionado, te notificaremos por correo la aprobación o rechazo del reembolso.',\n",
       "  'policies': 'Politica de reembolso',\n",
       "  'section': '5. Procedimiento de Devolución'},\n",
       " {'text': '6. Reembolsos\\nSi la devolución es aprobada, el reembolso se realizará por el mismo medio de pago utilizado en la compra. Si pagaste por transferencia, necesitaremos tus datos bancarios.\\nEl plazo de reembolso puede variar, pero no excederá de 10 días hábiles desde la aprobación.\\nImportante: los costos de envío originales no son reembolsables, salvo que el motivo de la devolución sea una falla del producto o error imputable a kreadores.cl.',\n",
       "  'policies': 'Politica de reembolso',\n",
       "  'section': '6. Reembolsos'},\n",
       " {'text': '2. Garantía Legal por Producto Defectuoso\\nSi el producto presenta fallas de fábrica o funcionamiento dentro de los 6 meses posteriores a la entrega, puedes optar —según tu preferencia— por:\\nReparación gratuita.\\nReposición del producto.\\nDevolución del dinero.\\nNo se aplicará la garantía legal si el producto fue:\\nIntervenido o reparado por terceros no autorizados.\\nDañado por mal uso, golpes, humedad o instalación incorrecta.\\nUsado de forma distinta a lo indicado en su ficha técnica o manual.\\nPara iniciar un proceso de garantía, escríbenos a ayuda@kreadores.cl adjuntando:\\nNúmero de pedido.\\nDescripción del defecto.\\nFotografías del producto.\\nTe responderemos en un máximo de 5 días hábiles.',\n",
       "  'policies': 'Politica de reembolso',\n",
       "  'section': '2. Garantía Legal por Producto Defectuoso'}]"
      ]
     },
     "execution_count": 206,
     "metadata": {},
     "output_type": "execute_result"
    }
   ],
   "source": [
    "rpta= vector_search('Tengo derecho a retracto?')\n",
    "rpta"
   ]
  },
  {
   "cell_type": "code",
   "execution_count": null,
   "id": "f5ea452a",
   "metadata": {},
   "outputs": [],
   "source": [
    "def build_prompt(query, result_from_search):\n",
    "\n",
    "    prompt_template= \"\"\"\n",
    "    Eres asistente de MiTienda, tienda online eCommerce. Responde la PREGUNTA basado en el CONTEXTO. Usa SOLO la información de la base de datos. No investes información, si no cuentas con la respuesta mencionalo.\n",
    "    Habla en primera persona.\n",
    "PREGUNTA: {question}\n",
    "    \n",
    "CONTEXTO:\n",
    "{context}\n",
    "    \"\"\".strip()\n",
    "    contexto= \"\"\n",
    "    for i in result_from_search:\n",
    "        contexto= contexto + f\"Text: {i['text']} \\nPolítica: {i['policies']} \\nSección: {i['section']}\\n\\n \"\n",
    "    \n",
    "    prompt= prompt_template.format(question= query, context= contexto)\n",
    "    return prompt"
   ]
  },
  {
   "cell_type": "code",
   "execution_count": 207,
   "id": "14c0195e",
   "metadata": {},
   "outputs": [
    {
     "name": "stdout",
     "output_type": "stream",
     "text": [
      "Eres asistente de MiTienda, tienda online eCommerce. Responde la PREGUNTA basado en el CONTEXTO. Usa solo la información de la base de datos.\n",
      "\n",
      "PREGUNTA: Tengo derecho a retracto?\n",
      "\n",
      "CONTEXTO:\n",
      "Text: 1. Derecho a Retracto\n",
      "Según lo dispuesto en el artículo 3 bis de la Ley del Consumidor chilena, si compraste un producto por internet y fue entregado a domicilio, tienes derecho a retractarte de la compra dentro de un plazo de 30 días corridos desde la compra, siempre que:\n",
      "El producto no haya sido usado, abierto ni dañado.\n",
      "Esté en su empaque original, sellado y en perfectas condiciones.\n",
      "Se acompañe con la boleta o comprobante de compra.\n",
      "No haya sido adquirido en liquidación o con descuentos especiales.\n",
      "En este caso, los costos de cambio son gratuitos. \n",
      "Política:Politica de reembolso \n",
      "Sección: 1. Derecho a Retracto\n",
      "\n",
      " Text: 3. Cambios Voluntarios\n",
      "Además del derecho a retracto y la garantía legal, aceptamos cambios voluntarios dentro de un plazo de 10 días desde la entrega, siempre que:\n",
      "El producto no haya sido usado ni dañado.\n",
      "Se encuentre en perfectas condiciones, con todos sus accesorios y empaques.\n",
      "No haya sido adquirido en liquidación o con descuentos especiales.\n",
      "En este caso, los costos de envío corren por cuenta del cliente. \n",
      "Política:Politica de reembolso \n",
      "Sección: 3. Cambios Voluntarios\n",
      "\n",
      " Text: 5. Procedimiento de Devolución\n",
      "Solicita tu devolución escribiendo a ayuda@kreadores.cl, indicando número de pedido, motivo y pruebas (fotos si aplica).\n",
      "Evaluaremos tu solicitud en un máximo de 5 días hábiles.\n",
      "Si es aprobada, te indicaremos la dirección para devolver el producto.\n",
      "Una vez recibido e inspeccionado, te notificaremos por correo la aprobación o rechazo del reembolso. \n",
      "Política:Politica de reembolso \n",
      "Sección: 5. Procedimiento de Devolución\n",
      "\n",
      " Text: 6. Reembolsos\n",
      "Si la devolución es aprobada, el reembolso se realizará por el mismo medio de pago utilizado en la compra. Si pagaste por transferencia, necesitaremos tus datos bancarios.\n",
      "El plazo de reembolso puede variar, pero no excederá de 10 días hábiles desde la aprobación.\n",
      "Importante: los costos de envío originales no son reembolsables, salvo que el motivo de la devolución sea una falla del producto o error imputable a kreadores.cl. \n",
      "Política:Politica de reembolso \n",
      "Sección: 6. Reembolsos\n",
      "\n",
      " Text: 2. Garantía Legal por Producto Defectuoso\n",
      "Si el producto presenta fallas de fábrica o funcionamiento dentro de los 6 meses posteriores a la entrega, puedes optar —según tu preferencia— por:\n",
      "Reparación gratuita.\n",
      "Reposición del producto.\n",
      "Devolución del dinero.\n",
      "No se aplicará la garantía legal si el producto fue:\n",
      "Intervenido o reparado por terceros no autorizados.\n",
      "Dañado por mal uso, golpes, humedad o instalación incorrecta.\n",
      "Usado de forma distinta a lo indicado en su ficha técnica o manual.\n",
      "Para iniciar un proceso de garantía, escríbenos a ayuda@kreadores.cl adjuntando:\n",
      "Número de pedido.\n",
      "Descripción del defecto.\n",
      "Fotografías del producto.\n",
      "Te responderemos en un máximo de 5 días hábiles. \n",
      "Política:Politica de reembolso \n",
      "Sección: 2. Garantía Legal por Producto Defectuoso\n",
      "\n",
      " \n"
     ]
    }
   ],
   "source": [
    "prompt= build_prompt('Tengo derecho a retracto?',rpta )\n",
    "print(prompt)"
   ]
  },
  {
   "cell_type": "code",
   "execution_count": null,
   "id": "69f09688",
   "metadata": {},
   "outputs": [],
   "source": [
    "#prueba de api\n",
    "def output_llm(prompt):\n",
    "\n",
    "    response= cliente.chat.completions.create(\n",
    "        model= 'gpt-4o-mini', \n",
    "        messages= [\n",
    "            {\n",
    "                \"role\":\"user\", \n",
    "                \"content\":  prompt\n",
    "            }\n",
    "        ]\n",
    "    )\n",
    "    return response.choices[0].message.content"
   ]
  },
  {
   "cell_type": "code",
   "execution_count": 203,
   "id": "add4c95d",
   "metadata": {},
   "outputs": [
    {
     "data": {
      "text/plain": [
       "\"To provide you with the best advice on how to obtain a certificate, I'll need a bit more information about the specific type of certificate you're interested in. Here are a few common types:\\n\\n1. **Academic Certificates**: If you're looking to obtain a certificate related to education, such as from a college or university, you typically need to enroll in a course or program, complete the required coursework, and pass any necessary assessments.\\n\\n2. **Professional Certifications**: For professional certifications (like PMP, ITIL, etc.), you usually need to meet certain prerequisites (like work experience), complete a training program, and pass an exam.\\n\\n3. **Online Course Certificates**: Many online platforms (like Coursera, edX, etc.) offer certificates upon completion of their courses. You generally need to sign up, complete the course requirements, and sometimes pay a fee.\\n\\n4. **Birth or Marriage Certificates**: If you need official documents like these, you typically request them from the relevant government office or vital records office in the jurisdiction where the event took place.\\n\\n5. **Skill-based Certificates**: For skills-based certifications (like coding boot camps or language courses), complete the training and pass any required assessments to receive your certificate.\\n\\nIf you specify the type of certificate you're interested in, I can provide more detailed guidance!\""
      ]
     },
     "execution_count": 203,
     "metadata": {},
     "output_type": "execute_result"
    }
   ],
   "source": [
    "rpta= output_llm('how can i get the certificate?')\n",
    "rpta"
   ]
  },
  {
   "cell_type": "code",
   "execution_count": 210,
   "id": "38ee9e78",
   "metadata": {},
   "outputs": [],
   "source": [
    "def rag_vector_search(query):\n",
    "    resultados_busqueda=vector_search(query)\n",
    "    prompt= build_prompt(query,resultados_busqueda)\n",
    "    respuesta= output_llm(prompt)\n",
    "\n",
    "    return respuesta\n"
   ]
  },
  {
   "cell_type": "markdown",
   "id": "e6672d70",
   "metadata": {},
   "source": [
    " Ejemplo de pregunta:  \n",
    "- INFORMACIÓN RELEVANTE:\n",
    "    1. Tienes 30 días para devolver productos desde la fecha de entrega\n",
    "    2. Los productos deben estar en perfecto estado, sin uso\n",
    "    3. El cliente paga el costo del envío de devolución\n",
    "\n",
    "- PREGUNTA: ¿Puedo devolver un producto?"
   ]
  },
  {
   "cell_type": "code",
   "execution_count": 219,
   "id": "119856b3",
   "metadata": {},
   "outputs": [],
   "source": [
    "query= '¿Puedo devolver un producto?'\n",
    "respuesta_llm= rag_vector_search(query)"
   ]
  },
  {
   "cell_type": "code",
   "execution_count": 220,
   "id": "827be4cf",
   "metadata": {},
   "outputs": [
    {
     "data": {
      "text/plain": [
       "'Sí, puedes devolver un producto. Debes solicitar la devolución escribiendo a ayuda@kreadores.cl, indicando tu número de pedido, el motivo y pruebas como fotos si es necesario. Evaluaremos tu solicitud en un máximo de 5 días hábiles. Si se aprueba, te proporcionaré la dirección para devolver el producto. Ten en cuenta que el cliente asume el costo del envío de devolución, salvo en casos de productos defectuosos o errores de despacho. Además, para realizar cambios voluntarios, el producto debe estar en perfectas condiciones y no usado, y el plazo para esto es de 10 días desde la entrega.'"
      ]
     },
     "execution_count": 220,
     "metadata": {},
     "output_type": "execute_result"
    }
   ],
   "source": [
    "respuesta_llm"
   ]
  },
  {
   "cell_type": "code",
   "execution_count": 214,
   "id": "9a7cb91e",
   "metadata": {},
   "outputs": [
    {
     "name": "stdout",
     "output_type": "stream",
     "text": [
      "Sí, puedes devolver un producto, siempre y cuando cumplas con ciertos requisitos. Tienes derecho a retracto dentro de 30 días desde la compra si el producto no ha sido usado ni dañado, está en su empaque original y sellado, y se acompaña con la boleta o comprobante de compra. En este caso, los costos de envío de devolución son gratuitos.\n",
      "\n",
      "Si deseas realizar un cambio voluntario, puedes hacerlo dentro de un plazo de 10 días desde la entrega, siempre que el producto esté en perfectas condiciones y sin daños. Sin embargo, en este caso, los costos de envío corren por cuenta del cliente.\n",
      "\n",
      "Para iniciar el proceso de devolución, debes escribir a ayuda@kreadores.cl con tu número de pedido, el motivo de la devolución y cualquier prueba necesaria (como fotos). Te informarán la dirección para el retorno una vez que tu solicitud sea aprobada.\n"
     ]
    }
   ],
   "source": [
    "print(respuesta_llm)"
   ]
  },
  {
   "cell_type": "code",
   "execution_count": 218,
   "id": "7df5f580",
   "metadata": {},
   "outputs": [
    {
     "name": "stdout",
     "output_type": "stream",
     "text": [
      "Lamentablemente, no realizamos envíos a Argentina. Solo hacemos despachos a nivel nacional en Chile. Si necesitas más información sobre nuestros servicios, no dudes en preguntarme.\n"
     ]
    }
   ],
   "source": [
    "query= '¿Hacen envíos a Argentina?'\n",
    "respuesta_llm= rag_vector_search(query)\n",
    "print(respuesta_llm)"
   ]
  }
 ],
 "metadata": {
  "kernelspec": {
   "display_name": "Python 3",
   "language": "python",
   "name": "python3"
  },
  "language_info": {
   "codemirror_mode": {
    "name": "ipython",
    "version": 3
   },
   "file_extension": ".py",
   "mimetype": "text/x-python",
   "name": "python",
   "nbconvert_exporter": "python",
   "pygments_lexer": "ipython3",
   "version": "3.12.1"
  }
 },
 "nbformat": 4,
 "nbformat_minor": 5
}
